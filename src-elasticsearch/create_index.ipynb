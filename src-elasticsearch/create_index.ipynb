{
 "cells": [
  {
   "cell_type": "code",
   "execution_count": 1,
   "metadata": {
    "collapsed": true
   },
   "outputs": [],
   "source": [
    "'''\n",
    "__author__: Jiaming Shen\n",
    "__description__: Create index with static mapping in ES (a.k.a. define schema). \n",
    "'''\n",
    "import time\n",
    "import re\n",
    "import sys\n",
    "import os\n",
    "from collections import defaultdict\n",
    "from elasticsearch import Elasticsearch\n",
    "from elasticsearch_dsl import Search, Q"
   ]
  },
  {
   "cell_type": "code",
   "execution_count": 2,
   "metadata": {
    "collapsed": true
   },
   "outputs": [],
   "source": [
    "INDEX_NAME = \"pubmed_1211\"\n",
    "TYPE_NAME = \"pubmed_entity\"\n",
    "NUMBER_SHARDS = 1 # keep this as one if no cluster\n",
    "NUMBER_REPLICAS = 0 \n",
    "\n",
    "'''\n",
    "following is the defined schema\n",
    "totally 17 fields: \n",
    "pmid, date, ( title, abstract, chemical, disease, gene, mutation, species ) with their length, plus total length\n",
    "'''\n",
    "request_body = {\n",
    "        \"settings\": {\n",
    "        \"number_of_shards\": NUMBER_SHARDS,\n",
    "        \"number_of_replicas\": NUMBER_REPLICAS\n",
    "    },\n",
    "    \"mappings\": {\n",
    "        TYPE_NAME: {\n",
    "            \"properties\": {\n",
    "                \"pmid\": {\n",
    "                    \"type\": \"string\",\n",
    "                    \"index\": \"not_analyzed\"\n",
    "                },\n",
    "                \"date\": {\n",
    "                    \"type\": \"long\"\n",
    "                },\n",
    "                \"title\": { \n",
    "                    \"type\": \"string\",\n",
    "                    \"similarity\": \"BM25\"\n",
    "                },\n",
    "                \"abstract\": {\n",
    "                    \"type\": \"string\",\n",
    "                    \"similarity\": \"BM25\"\n",
    "                },\n",
    "                \"chemical\": {\n",
    "                    \"type\": \"string\",\n",
    "                    \"similarity\": \"BM25\"\n",
    "                },\n",
    "                \"disease\": {\n",
    "                    \"type\": \"string\",\n",
    "                    \"similarity\": \"BM25\"\n",
    "                },\n",
    "                \"gene\": {\n",
    "                    \"type\": \"string\",\n",
    "                    \"similarity\": \"BM25\"\n",
    "                },\n",
    "                \"mutation\": {\n",
    "                    \"type\": \"string\",\n",
    "                    \"similarity\": \"BM25\"\n",
    "                },\n",
    "                \"species\": {\n",
    "                    \"type\": \"string\",\n",
    "                    \"similarity\": \"BM25\"\n",
    "                },\n",
    "                \"title_length\": {\n",
    "                    \"type\": \"long\"\n",
    "                },\n",
    "                \"abstract_length\": {\n",
    "                    \"type\": \"long\"\n",
    "                },\n",
    "                \"chemical_length\": {\n",
    "                    \"type\": \"long\"\n",
    "                },\n",
    "                \"disease_length\": {\n",
    "                    \"type\": \"long\"\n",
    "                },\n",
    "                \"gene_length\": {\n",
    "                    \"type\": \"long\"\n",
    "                },\n",
    "                \"mutation_length\": {\n",
    "                    \"type\": \"long\"\n",
    "                },\n",
    "                \"species_length\": {\n",
    "                    \"type\": \"long\"\n",
    "                },\n",
    "                \"total_length\": {\n",
    "                    \"type\": \"long\"\n",
    "                }\n",
    "            }\n",
    "        }\n",
    "    }\n",
    "}"
   ]
  },
  {
   "cell_type": "code",
   "execution_count": 3,
   "metadata": {
    "collapsed": true
   },
   "outputs": [],
   "source": [
    "es = Elasticsearch()"
   ]
  },
  {
   "cell_type": "code",
   "execution_count": 10,
   "metadata": {
    "collapsed": false
   },
   "outputs": [
    {
     "name": "stdout",
     "output_type": "stream",
     "text": [
      "Deleting index pubmed_1211 , Response: {u'acknowledged': True}\n",
      "Create index pubmed_1211 , Response: {u'acknowledged': True}\n"
     ]
    }
   ],
   "source": [
    "if es.indices.exists(INDEX_NAME):\n",
    "    res = es.indices.delete(index = INDEX_NAME)\n",
    "    print \"Deleting index %s , Response: %s\" % (INDEX_NAME, res)\n",
    "res = es.indices.create(index = INDEX_NAME, body = request_body)\n",
    "print \"Create index %s , Response: %s\" % (INDEX_NAME, res)"
   ]
  },
  {
   "cell_type": "code",
   "execution_count": null,
   "metadata": {
    "collapsed": true
   },
   "outputs": [],
   "source": []
  }
 ],
 "metadata": {
  "kernelspec": {
   "display_name": "Python 2",
   "language": "python",
   "name": "python2"
  },
  "language_info": {
   "codemirror_mode": {
    "name": "ipython",
    "version": 2
   },
   "file_extension": ".py",
   "mimetype": "text/x-python",
   "name": "python",
   "nbconvert_exporter": "python",
   "pygments_lexer": "ipython2",
   "version": "2.7.11"
  }
 },
 "nbformat": 4,
 "nbformat_minor": 0
}
