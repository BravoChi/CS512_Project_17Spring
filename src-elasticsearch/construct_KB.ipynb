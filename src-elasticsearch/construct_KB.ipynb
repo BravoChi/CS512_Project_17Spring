{
 "cells": [
  {
   "cell_type": "code",
   "execution_count": 4,
   "metadata": {
    "collapsed": true
   },
   "outputs": [],
   "source": [
    "'''\n",
    "__author__: Jiaming Shen\n",
    "__description__: Construct KB from bioconcepts2pubtator_offsets.txt\n",
    "'''\n",
    "import time\n",
    "import re\n",
    "import sys \n",
    "import os\n",
    "from collections import defaultdict\n",
    "from collections import Counter"
   ]
  },
  {
   "cell_type": "code",
   "execution_count": 5,
   "metadata": {
    "collapsed": true
   },
   "outputs": [],
   "source": [
    "inputFilePath = \"./indexer2/bioconcepts2pubtator_offsets.sample\"\n",
    "kbFilePath = \"./kb.txt\""
   ]
  },
  {
   "cell_type": "code",
   "execution_count": 8,
   "metadata": {
    "collapsed": false
   },
   "outputs": [
    {
     "name": "stdout",
     "output_type": "stream",
     "text": [
      "processing documents... 59380, escaped time 2.23564386368 (seconds) \n",
      "\n",
      "Finish constructing the KB. Total escaped time 2.23568987846 (seconds) \n",
      "\n",
      "Start saving KB \n",
      " \n",
      "chemical\t23099\n",
      "gene\t2249\n",
      "species\t2096\n",
      "disease\t22931\n",
      "mutation\t0\n"
     ]
    }
   ],
   "source": [
    "with open(inputFilePath, \"r\") as fin:\n",
    "    start = time.time()\n",
    "    cnt = 0 # number of document processed\n",
    "    bulk_size = 1e5 # \n",
    "    \n",
    "    entities = defaultdict(list) # type name -> list of entity mentions\n",
    "    kb = defaultdict(Counter) # type name -> counter\n",
    "    for line in fin:\n",
    "        line = line.strip()\n",
    "        if not line: # a document end            \n",
    "            cnt += 1\n",
    "            if cnt % bulk_size == 0 and cnt != 0:\n",
    "                for entity_type in [\"chemical\", \"disease\", \"gene\", \"mutation\", \"species\"]:\n",
    "                    kb[entity_type] += ( Counter(entities[entity_type]) )\n",
    "                tmp = time.time()\n",
    "                print(\"processing documents... %s, escaped time %s (seconds) \\n\" % ( cnt, tmp - start ) )\n",
    "                ## Re-initialize for next bulk of documents\n",
    "                entities = defaultdict(list)\n",
    "                \n",
    "        else: # in the middle of a document\n",
    "            if re.match(r\"^\\d+\\|t\\|\", line): # title\n",
    "                continue\n",
    "            elif re.match(r\"^\\d+\\|a\\|\", line): # abstract\n",
    "                continue\n",
    "            else:\n",
    "                tmp = line.split(\"\\t\")\n",
    "                entity_mention = \"_\".join(tmp[3].split()) # use \"_\" to connect multiwords entity\n",
    "                entity_type = tmp[4].lower()\n",
    "                entities[entity_type].append(entity_mention)\n",
    "\n",
    "    ## indexing those left papers\n",
    "    for entity_type in [\"chemical\", \"disease\", \"gene\", \"mutation\", \"species\"]:\n",
    "        kb[entity_type] += ( Counter(entities[entity_type]) )\n",
    "    tmp = time.time()\n",
    "    print(\"processing documents... %s, escaped time %s (seconds) \\n\" % ( cnt, tmp - start ) )\n",
    "\n",
    "    end = time.time()\n",
    "    print(\"Finish constructing the KB. Total escaped time %s (seconds) \\n\" % (end - start) )\n",
    "\n",
    "print(\"Start saving KB \\n \")\n",
    "with open(kbFilePath, \"w\") as fout:\n",
    "    for key in kb:\n",
    "        entity_mentions = kb[key]\n",
    "        print(key+\"\\t\"+str(len(entity_mentions))) # type, number of distinct entity mentions\n",
    "        fout.write(\"=\"*10+key+\"\\t\"+str(len(entity_mentions))+\"=\"*10+\"\\n\") # type, number of distinct entity mentions\n",
    "        for ele in sorted(entity_mentions.items(), key = lambda x:-x[1]):\n",
    "            fout.write(ele[0]+\"\\t\"+key.upper()+\"\\t\"+str(ele[1])+\"\\n\")"
   ]
  },
  {
   "cell_type": "code",
   "execution_count": null,
   "metadata": {
    "collapsed": true
   },
   "outputs": [],
   "source": []
  }
 ],
 "metadata": {
  "kernelspec": {
   "display_name": "Python 2",
   "language": "python",
   "name": "python2"
  },
  "language_info": {
   "codemirror_mode": {
    "name": "ipython",
    "version": 2
   },
   "file_extension": ".py",
   "mimetype": "text/x-python",
   "name": "python",
   "nbconvert_exporter": "python",
   "pygments_lexer": "ipython2",
   "version": "2.7.11"
  }
 },
 "nbformat": 4,
 "nbformat_minor": 0
}
